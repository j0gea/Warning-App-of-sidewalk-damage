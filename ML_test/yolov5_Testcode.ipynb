{
  "nbformat": 4,
  "nbformat_minor": 0,
  "metadata": {
    "colab": {
      "provenance": [],
      "gpuType": "T4",
      "include_colab_link": true
    },
    "kernelspec": {
      "name": "python3",
      "display_name": "Python 3"
    },
    "language_info": {
      "name": "python"
    },
    "accelerator": "GPU"
  },
  "cells": [
    {
      "cell_type": "markdown",
      "metadata": {
        "id": "view-in-github",
        "colab_type": "text"
      },
      "source": [
        "<a href=\"https://colab.research.google.com/github/j0gea/Warning-App-of-sidewalk-damage/blob/main/ML_test/yolov5_Testcode.ipynb\" target=\"_parent\"><img src=\"https://colab.research.google.com/assets/colab-badge.svg\" alt=\"Open In Colab\"/></a>"
      ]
    },
    {
      "cell_type": "code",
      "source": [
        "# 드라이브 마운트\n",
        "from google.colab import drive\n",
        "drive.mount('/content/drive')"
      ],
      "metadata": {
        "id": "JTCXujHi5eQ3",
        "colab": {
          "base_uri": "https://localhost:8080/"
        },
        "outputId": "b4c4492e-4193-46e8-f92f-1c6200861404"
      },
      "execution_count": null,
      "outputs": [
        {
          "output_type": "stream",
          "name": "stdout",
          "text": [
            "Mounted at /content/drive\n"
          ]
        }
      ]
    },
    {
      "cell_type": "code",
      "source": [
        "# /content/drive/MyDrive/yolov5\n",
        "# 자료용 경로"
      ],
      "metadata": {
        "id": "19-J-3pM6VZ5"
      },
      "execution_count": null,
      "outputs": []
    },
    {
      "cell_type": "code",
      "execution_count": null,
      "metadata": {
        "id": "GDiDRr30Zl2S",
        "colab": {
          "base_uri": "https://localhost:8080/"
        },
        "outputId": "47958841-aaee-4454-8d52-992a9a39bfb1"
      },
      "outputs": [
        {
          "output_type": "stream",
          "name": "stdout",
          "text": [
            "/content\n"
          ]
        }
      ],
      "source": [
        "!pwd\n"
      ]
    },
    {
      "cell_type": "markdown",
      "source": [
        "yolov5 설정"
      ],
      "metadata": {
        "id": "7dN0l0MUCjYa"
      }
    },
    {
      "cell_type": "code",
      "source": [
        "!git clone https://github.com/ultralytics/yolov5.git"
      ],
      "metadata": {
        "id": "qrNjhwrQeptM"
      },
      "execution_count": null,
      "outputs": []
    },
    {
      "cell_type": "code",
      "source": [
        "%cd yolov5"
      ],
      "metadata": {
        "id": "xg1EF2Peev3x"
      },
      "execution_count": null,
      "outputs": []
    },
    {
      "cell_type": "code",
      "source": [
        "! pip install -r requirements.txt"
      ],
      "metadata": {
        "id": "hFqjlvpDe1qy"
      },
      "execution_count": null,
      "outputs": []
    },
    {
      "cell_type": "markdown",
      "source": [
        "데이터셋 설정"
      ],
      "metadata": {
        "id": "qGeIiNTTJPN0"
      }
    },
    {
      "cell_type": "code",
      "source": [
        "!curl -L \"https://public.roboflow.com/ds/g6qFjh0gN2?key=qJ7gs90WFd\" > roboflow.zip; unzip roboflow.zip; rm roboflow.zip"
      ],
      "metadata": {
        "id": "i0TEflsDejU8"
      },
      "execution_count": null,
      "outputs": []
    },
    {
      "cell_type": "code",
      "source": [
        "%cat /content/yolov5/data.yaml"
      ],
      "metadata": {
        "id": "mCeEv3fUtCBo"
      },
      "execution_count": null,
      "outputs": []
    },
    {
      "cell_type": "code",
      "source": [
        "!pwd"
      ],
      "metadata": {
        "id": "D6w5qqpWEgwv"
      },
      "execution_count": null,
      "outputs": []
    },
    {
      "cell_type": "markdown",
      "source": [
        "yolov5 트레이닝"
      ],
      "metadata": {
        "id": "iiBzAv-PDX44"
      }
    },
    {
      "cell_type": "code",
      "source": [
        "!python train.py --img 416 --batch 16 --epochs 50 --data /content/yolov5/data.yaml --cfg ./models/yolov5m.yaml --weights yolov5m.pt --name results"
      ],
      "metadata": {
        "id": "01NgQAWVjXkh"
      },
      "execution_count": null,
      "outputs": []
    },
    {
      "cell_type": "code",
      "source": [
        "!python detect.py --weights ./runs/train/results/weights/best.pt --conf 0.5 --source /content/potholeex.jpg"
      ],
      "metadata": {
        "id": "CHVuCofUt-iO"
      },
      "execution_count": null,
      "outputs": []
    }
  ]
}